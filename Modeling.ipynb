{
 "cells": [
  {
   "cell_type": "markdown",
   "id": "a804a27f",
   "metadata": {},
   "source": [
    "# Fraud Detection"
   ]
  },
  {
   "cell_type": "markdown",
   "id": "7b10cc61",
   "metadata": {},
   "source": [
    "**As an initial trial, the model selected for this problem will be random forest algorithm. Tree based models proved to be a robust solution for tabular data.**\n",
    "\n",
    "\n",
    "\n",
    "**All the features present will be used for model training except for the name of the sender and reciever accounts which are nearly unique for each example**\n",
    "\n",
    "  \n",
    "**Two new features will be added which are:**\n",
    "\n",
    "**1- the difference between account balances before and after the transaction.**\n",
    "\n",
    "**2- binary feature which determines if all the balance in the origin account was transferred within the transaction or not.**\n",
    "       \n",
    "       \n",
    "**Data will be split so that 20% of the data used for validation keeping the ratio of minor class the same in both train and test sets.**\n",
    " \n",
    "\n",
    "**For better testing, macro precision, recal and f1-score will be used as metrics. The accuracy of minor class will be measured separately as well.**"
   ]
  },
  {
   "cell_type": "code",
   "execution_count": 1,
   "id": "82c151d9",
   "metadata": {},
   "outputs": [],
   "source": [
    "##IMPORTING RELEVANT LIBRARIES\n",
    "import pandas as pd\n",
    "import numpy as np\n",
    "\n",
    "import seaborn as sns\n",
    "import matplotlib.pyplot as plt\n",
    "\n",
    "import pickle\n",
    "\n",
    "import sklearn\n",
    "from sklearn.ensemble import RandomForestClassifier\n",
    "from sklearn.model_selection import train_test_split\n",
    "\n",
    "from sklearn.preprocessing import MinMaxScaler, StandardScaler\n",
    "\n",
    "from sklearn.metrics import accuracy_score, confusion_matrix, classification_report"
   ]
  },
  {
   "cell_type": "code",
   "execution_count": 2,
   "id": "39eda70a",
   "metadata": {},
   "outputs": [],
   "source": [
    "#Define global variables\n",
    "scaled_columns = [\"amount\", \"oldbalanceOrig\", \"newbalanceOrig\",\"oldbalanceDest\", \"newbalanceDest\"]\n",
    "\n",
    "final_cols_order = [\"amount\",\"oldbalanceOrig\",\"newbalanceOrig\",\"oldbalanceDest\",\"newbalanceDest\", \n",
    "                    \"orig_diff\", \"dest_diff\", \"step\", \"type\", \"balance_equals_amount\", \"isFraud\"]\n",
    "\n",
    "transaction_type_dict = {\"PAYMENT\":0,\n",
    "                        \"TRANSFER\":1,\n",
    "                        \"CASH_OUT\":2,\n",
    "                        \"DEBIT\":3,\n",
    "                        \"CASH_IN\":4}\n",
    "\n",
    "inverse_label_dict = {0:\"Not_Fraud\",\n",
    "                      1:\"Fraud\"}\n",
    "\n",
    "\n",
    "scaler = StandardScaler()"
   ]
  },
  {
   "cell_type": "code",
   "execution_count": 3,
   "id": "bcb116f9",
   "metadata": {},
   "outputs": [],
   "source": [
    "##Reading Data\n",
    "data = pd.read_csv(\"./Data/transactions_train.csv\")"
   ]
  },
  {
   "cell_type": "code",
   "execution_count": 4,
   "id": "3958922b",
   "metadata": {},
   "outputs": [],
   "source": [
    "##helper functions for feature engineering\n",
    "def get_balance_diff(old_balance, new_balance):\n",
    "    return new_balance-old_balance\n",
    "\n",
    "def balance_equals_amount(old_balance, amount):\n",
    "    return (old_balance==amount) *1\n",
    "    \n",
    "\n",
    "def add_features(df):\n",
    "    df_new = df.copy()\n",
    "    df_new[\"type\"] = df_new[\"type\"].map(lambda x:transaction_type_dict[x])\n",
    "    \n",
    "    scaler.fit(df_new[scaled_columns].values.reshape(-1, 1))\n",
    "    \n",
    "    for col in scaled_columns:\n",
    "        df_new[col] = scaler.transform(df_new[col].values.reshape(-1, 1));\n",
    "\n",
    "    df_new[\"orig_diff\"] = df_new.apply(lambda x: get_balance_diff(x.oldbalanceOrig,\n",
    "                                                                  x.newbalanceOrig), axis=1)\n",
    "    df_new[\"dest_diff\"] = df_new.apply(lambda x: get_balance_diff(x.oldbalanceDest,\n",
    "                                                                  x.newbalanceDest), axis=1)\n",
    "    df_new[\"balance_equals_amount\"] = df_new.apply(lambda x: balance_equals_amount(x.oldbalanceOrig,\n",
    "                                                                                   x.amount), axis=1)\n",
    "    \n",
    "    df_new.drop(['nameOrig', 'nameDest'], axis=1, inplace=True)\n",
    "    \n",
    "    df_new = df_new[final_cols_order]\n",
    "    return df_new"
   ]
  },
  {
   "cell_type": "code",
   "execution_count": 5,
   "id": "6b79e863",
   "metadata": {},
   "outputs": [
    {
     "data": {
      "text/html": [
       "<div>\n",
       "<style scoped>\n",
       "    .dataframe tbody tr th:only-of-type {\n",
       "        vertical-align: middle;\n",
       "    }\n",
       "\n",
       "    .dataframe tbody tr th {\n",
       "        vertical-align: top;\n",
       "    }\n",
       "\n",
       "    .dataframe thead th {\n",
       "        text-align: right;\n",
       "    }\n",
       "</style>\n",
       "<table border=\"1\" class=\"dataframe\">\n",
       "  <thead>\n",
       "    <tr style=\"text-align: right;\">\n",
       "      <th></th>\n",
       "      <th>amount</th>\n",
       "      <th>oldbalanceOrig</th>\n",
       "      <th>newbalanceOrig</th>\n",
       "      <th>oldbalanceDest</th>\n",
       "      <th>newbalanceDest</th>\n",
       "      <th>orig_diff</th>\n",
       "      <th>dest_diff</th>\n",
       "      <th>step</th>\n",
       "      <th>type</th>\n",
       "      <th>balance_equals_amount</th>\n",
       "      <th>isFraud</th>\n",
       "    </tr>\n",
       "  </thead>\n",
       "  <tbody>\n",
       "    <tr>\n",
       "      <th>0</th>\n",
       "      <td>-0.282944</td>\n",
       "      <td>-0.228273</td>\n",
       "      <td>-0.231629</td>\n",
       "      <td>-0.286300</td>\n",
       "      <td>-0.286300</td>\n",
       "      <td>-0.003356</td>\n",
       "      <td>0.000000</td>\n",
       "      <td>1</td>\n",
       "      <td>0</td>\n",
       "      <td>0</td>\n",
       "      <td>0</td>\n",
       "    </tr>\n",
       "    <tr>\n",
       "      <th>1</th>\n",
       "      <td>-0.285664</td>\n",
       "      <td>-0.279052</td>\n",
       "      <td>-0.279688</td>\n",
       "      <td>-0.286300</td>\n",
       "      <td>-0.286300</td>\n",
       "      <td>-0.000636</td>\n",
       "      <td>0.000000</td>\n",
       "      <td>1</td>\n",
       "      <td>0</td>\n",
       "      <td>0</td>\n",
       "      <td>0</td>\n",
       "    </tr>\n",
       "    <tr>\n",
       "      <th>2</th>\n",
       "      <td>-0.286238</td>\n",
       "      <td>-0.286238</td>\n",
       "      <td>-0.286300</td>\n",
       "      <td>-0.286300</td>\n",
       "      <td>-0.286300</td>\n",
       "      <td>-0.000062</td>\n",
       "      <td>0.000000</td>\n",
       "      <td>1</td>\n",
       "      <td>1</td>\n",
       "      <td>1</td>\n",
       "      <td>1</td>\n",
       "    </tr>\n",
       "    <tr>\n",
       "      <th>3</th>\n",
       "      <td>-0.286238</td>\n",
       "      <td>-0.286238</td>\n",
       "      <td>-0.286300</td>\n",
       "      <td>-0.279075</td>\n",
       "      <td>-0.286300</td>\n",
       "      <td>-0.000062</td>\n",
       "      <td>-0.007224</td>\n",
       "      <td>1</td>\n",
       "      <td>2</td>\n",
       "      <td>1</td>\n",
       "      <td>1</td>\n",
       "    </tr>\n",
       "    <tr>\n",
       "      <th>4</th>\n",
       "      <td>-0.282320</td>\n",
       "      <td>-0.272127</td>\n",
       "      <td>-0.276107</td>\n",
       "      <td>-0.286300</td>\n",
       "      <td>-0.286300</td>\n",
       "      <td>-0.003980</td>\n",
       "      <td>0.000000</td>\n",
       "      <td>1</td>\n",
       "      <td>0</td>\n",
       "      <td>0</td>\n",
       "      <td>0</td>\n",
       "    </tr>\n",
       "    <tr>\n",
       "      <th>...</th>\n",
       "      <td>...</td>\n",
       "      <td>...</td>\n",
       "      <td>...</td>\n",
       "      <td>...</td>\n",
       "      <td>...</td>\n",
       "      <td>...</td>\n",
       "      <td>...</td>\n",
       "      <td>...</td>\n",
       "      <td>...</td>\n",
       "      <td>...</td>\n",
       "      <td>...</td>\n",
       "    </tr>\n",
       "    <tr>\n",
       "      <th>6351188</th>\n",
       "      <td>-0.230936</td>\n",
       "      <td>-0.230936</td>\n",
       "      <td>-0.286300</td>\n",
       "      <td>-0.286300</td>\n",
       "      <td>-0.286300</td>\n",
       "      <td>-0.055363</td>\n",
       "      <td>0.000000</td>\n",
       "      <td>699</td>\n",
       "      <td>1</td>\n",
       "      <td>1</td>\n",
       "      <td>1</td>\n",
       "    </tr>\n",
       "    <tr>\n",
       "      <th>6351189</th>\n",
       "      <td>-0.230936</td>\n",
       "      <td>-0.230936</td>\n",
       "      <td>-0.286300</td>\n",
       "      <td>-0.286300</td>\n",
       "      <td>-0.230936</td>\n",
       "      <td>-0.055363</td>\n",
       "      <td>0.055363</td>\n",
       "      <td>699</td>\n",
       "      <td>2</td>\n",
       "      <td>1</td>\n",
       "      <td>1</td>\n",
       "    </tr>\n",
       "    <tr>\n",
       "      <th>6351190</th>\n",
       "      <td>0.656187</td>\n",
       "      <td>0.656187</td>\n",
       "      <td>-0.286300</td>\n",
       "      <td>-0.286300</td>\n",
       "      <td>-0.286300</td>\n",
       "      <td>-0.942486</td>\n",
       "      <td>0.000000</td>\n",
       "      <td>699</td>\n",
       "      <td>1</td>\n",
       "      <td>1</td>\n",
       "      <td>1</td>\n",
       "    </tr>\n",
       "    <tr>\n",
       "      <th>6351191</th>\n",
       "      <td>0.656187</td>\n",
       "      <td>0.656187</td>\n",
       "      <td>-0.286300</td>\n",
       "      <td>-0.170504</td>\n",
       "      <td>0.771982</td>\n",
       "      <td>-0.942486</td>\n",
       "      <td>0.942486</td>\n",
       "      <td>699</td>\n",
       "      <td>2</td>\n",
       "      <td>1</td>\n",
       "      <td>1</td>\n",
       "    </tr>\n",
       "    <tr>\n",
       "      <th>6351192</th>\n",
       "      <td>-0.286102</td>\n",
       "      <td>-0.282693</td>\n",
       "      <td>-0.282890</td>\n",
       "      <td>-0.242960</td>\n",
       "      <td>-0.242763</td>\n",
       "      <td>-0.000197</td>\n",
       "      <td>0.000197</td>\n",
       "      <td>699</td>\n",
       "      <td>3</td>\n",
       "      <td>0</td>\n",
       "      <td>0</td>\n",
       "    </tr>\n",
       "  </tbody>\n",
       "</table>\n",
       "<p>6351193 rows × 11 columns</p>\n",
       "</div>"
      ],
      "text/plain": [
       "           amount  oldbalanceOrig  newbalanceOrig  oldbalanceDest  \\\n",
       "0       -0.282944       -0.228273       -0.231629       -0.286300   \n",
       "1       -0.285664       -0.279052       -0.279688       -0.286300   \n",
       "2       -0.286238       -0.286238       -0.286300       -0.286300   \n",
       "3       -0.286238       -0.286238       -0.286300       -0.279075   \n",
       "4       -0.282320       -0.272127       -0.276107       -0.286300   \n",
       "...           ...             ...             ...             ...   \n",
       "6351188 -0.230936       -0.230936       -0.286300       -0.286300   \n",
       "6351189 -0.230936       -0.230936       -0.286300       -0.286300   \n",
       "6351190  0.656187        0.656187       -0.286300       -0.286300   \n",
       "6351191  0.656187        0.656187       -0.286300       -0.170504   \n",
       "6351192 -0.286102       -0.282693       -0.282890       -0.242960   \n",
       "\n",
       "         newbalanceDest  orig_diff  dest_diff  step  type  \\\n",
       "0             -0.286300  -0.003356   0.000000     1     0   \n",
       "1             -0.286300  -0.000636   0.000000     1     0   \n",
       "2             -0.286300  -0.000062   0.000000     1     1   \n",
       "3             -0.286300  -0.000062  -0.007224     1     2   \n",
       "4             -0.286300  -0.003980   0.000000     1     0   \n",
       "...                 ...        ...        ...   ...   ...   \n",
       "6351188       -0.286300  -0.055363   0.000000   699     1   \n",
       "6351189       -0.230936  -0.055363   0.055363   699     2   \n",
       "6351190       -0.286300  -0.942486   0.000000   699     1   \n",
       "6351191        0.771982  -0.942486   0.942486   699     2   \n",
       "6351192       -0.242763  -0.000197   0.000197   699     3   \n",
       "\n",
       "         balance_equals_amount  isFraud  \n",
       "0                            0        0  \n",
       "1                            0        0  \n",
       "2                            1        1  \n",
       "3                            1        1  \n",
       "4                            0        0  \n",
       "...                        ...      ...  \n",
       "6351188                      1        1  \n",
       "6351189                      1        1  \n",
       "6351190                      1        1  \n",
       "6351191                      1        1  \n",
       "6351192                      0        0  \n",
       "\n",
       "[6351193 rows x 11 columns]"
      ]
     },
     "metadata": {},
     "output_type": "display_data"
    }
   ],
   "source": [
    "#add new features and display new dataframe\n",
    "data_new = add_features(data)\n",
    "display(data_new)"
   ]
  },
  {
   "cell_type": "code",
   "execution_count": 6,
   "id": "160d3f84",
   "metadata": {},
   "outputs": [],
   "source": [
    "##Splitting Data\n",
    "data, label = data_new.iloc[:,:-1], data_new.iloc[:,-1]\n",
    "\n",
    "X_train,X_cv,y_train,y_cv = train_test_split(data,label,test_size = 0.2, stratify = label)"
   ]
  },
  {
   "cell_type": "code",
   "execution_count": 7,
   "id": "ca0a6b20",
   "metadata": {},
   "outputs": [
    {
     "data": {
      "text/plain": [
       "RandomForestClassifier(n_estimators=20, random_state=0)"
      ]
     },
     "execution_count": 7,
     "metadata": {},
     "output_type": "execute_result"
    }
   ],
   "source": [
    "##Training Random Forest Classifier\n",
    "clf = RandomForestClassifier(random_state=0, n_estimators = 20)\n",
    "clf.fit(X_train, y_train)"
   ]
  },
  {
   "cell_type": "code",
   "execution_count": 8,
   "id": "40d3edf7",
   "metadata": {},
   "outputs": [
    {
     "name": "stdout",
     "output_type": "stream",
     "text": [
      "Total Training Accuracy: 0.9999990159328347\n",
      "Minor Classes Training Accuracy: 0.9991901522513768\n"
     ]
    }
   ],
   "source": [
    "##Display Training Accuracy\n",
    "y_pred = clf.predict(X_train)\n",
    "print(f\"Total Training Accuracy: {accuracy_score(y_train,y_pred)}\")\n",
    "print(f\"Minor Classes Training Accuracy: {accuracy_score(y_train[y_train==1],y_pred[y_train==1])}\")"
   ]
  },
  {
   "cell_type": "code",
   "execution_count": 9,
   "id": "63d0d57f",
   "metadata": {},
   "outputs": [
    {
     "name": "stdout",
     "output_type": "stream",
     "text": [
      "Total Validation Accuracy: 0.9999937019726209\n",
      "Minor Classes Validation Accuracy: 0.9948152948801037\n"
     ]
    }
   ],
   "source": [
    "##Display Validation Accuracy\n",
    "y_pred = clf.predict(X_cv)\n",
    "print(f\"Total Validation Accuracy: {accuracy_score(y_cv,y_pred)}\")\n",
    "print(f\"Minor Classes Validation Accuracy: {accuracy_score(y_cv[y_cv==1],y_pred[y_cv==1])}\")"
   ]
  },
  {
   "cell_type": "code",
   "execution_count": 10,
   "id": "8b461a9b",
   "metadata": {},
   "outputs": [
    {
     "data": {
      "image/png": "[encoded data removed]",
      "text/plain": [
       "<Figure size 720x504 with 2 Axes>"
      ]
     },
     "metadata": {
      "needs_background": "light"
     },
     "output_type": "display_data"
    }
   ],
   "source": [
    "##Confusion Matrix\n",
    "array = confusion_matrix(y_cv,y_pred)\n",
    "df_cm = pd.DataFrame(array, index = [inverse_label_dict[i] for i in range(len(inverse_label_dict))],\n",
    "                  columns = [inverse_label_dict[i] for i in range(len(inverse_label_dict))])\n",
    "plt.figure(figsize = (10,7))\n",
    "sns.heatmap(df_cm, annot=True);"
   ]
  },
  {
   "cell_type": "code",
   "execution_count": 11,
   "id": "8c3ec727",
   "metadata": {},
   "outputs": [
    {
     "name": "stdout",
     "output_type": "stream",
     "text": [
      "              precision    recall  f1-score   support\n",
      "\n",
      "   Not Fraud       1.00      1.00      1.00   1268696\n",
      "       Fraud       1.00      0.99      1.00      1543\n",
      "\n",
      "    accuracy                           1.00   1270239\n",
      "   macro avg       1.00      1.00      1.00   1270239\n",
      "weighted avg       1.00      1.00      1.00   1270239\n",
      "\n"
     ]
    }
   ],
   "source": [
    "##Display the classification report\n",
    "print(classification_report(y_cv, y_pred, target_names=[\"Not Fraud\", \"Fraud\"]))"
   ]
  },
  {
   "cell_type": "markdown",
   "id": "f2148fba",
   "metadata": {},
   "source": [
    "**Random forest performed perfectly on the dataset with almost 100% accuracy.**\n",
    "\n",
    "**Scaler and classifier will be saved as pickle files to be used in model deployment**"
   ]
  },
  {
   "cell_type": "code",
   "execution_count": 12,
   "id": "d2f34fe6",
   "metadata": {},
   "outputs": [],
   "source": [
    "#saving scaler and classifier\n",
    "with open('scaler.pickle', 'wb') as f:\n",
    "    pickle.dump(scaler, f)\n",
    "\n",
    "with open('classifier.pickle', 'wb') as f:\n",
    "    pickle.dump(clf, f)"
   ]
  },
  {
   "cell_type": "code",
   "execution_count": null,
   "id": "b6b4d28f",
   "metadata": {},
   "outputs": [],
   "source": []
  }
 ],
 "metadata": {
  "kernelspec": {
   "display_name": "Python 3 (ipykernel)",
   "language": "python",
   "name": "python3"
  },
  "language_info": {
   "codemirror_mode": {
    "name": "ipython",
    "version": 3
   },
   "file_extension": ".py",
   "mimetype": "text/x-python",
   "name": "python",
   "nbconvert_exporter": "python",
   "pygments_lexer": "ipython3",
   "version": "3.8.8"
  }
 },
 "nbformat": 4,
 "nbformat_minor": 5
}
