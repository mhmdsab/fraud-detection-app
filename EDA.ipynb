{
 "cells": [
  {
   "cell_type": "markdown",
   "metadata": {},
   "source": [
    "# EDA"
   ]
  },
  {
   "cell_type": "markdown",
   "metadata": {},
   "source": [
    "**In This Part We Will try to get insightful key findings that would enable better understanding of the data and will help solving the tasks**\n",
    "\n",
    "**We will find the following in this section:**\n",
    "\n",
    "**1- Have a quick look on the continous features of the data**\n",
    "\n",
    "**2- View class balance**\n",
    "\n",
    "**3- Check the transaction type for fraud vs valid transaction**\n",
    "\n",
    "**4- Check the distribution of transactions among time steps**"
   ]
  },
  {
   "cell_type": "markdown",
   "metadata": {},
   "source": [
    " "
   ]
  },
  {
   "cell_type": "markdown",
   "metadata": {},
   "source": [
    "**Step1: Have a quick look on the data**\n"
   ]
  },
  {
   "cell_type": "code",
   "execution_count": 1,
   "metadata": {},
   "outputs": [],
   "source": [
    "#importing important liberaries\n",
    "import numpy as np\n",
    "import pandas as pd\n",
    "import seaborn as sns\n",
    "import matplotlib.pyplot as plt"
   ]
  },
  {
   "cell_type": "code",
   "execution_count": 2,
   "metadata": {},
   "outputs": [],
   "source": [
    "#reading data\n",
    "data = pd.read_csv(\"./Data/transactions_train.csv\")\n",
    "data[\"isFradulentNamed\"] = data.isFraud.map(lambda x: \"fraud\" if x==1 else \"not fraud\")\n",
    "Fraud_data = data[data.isFraud==1]\n",
    "Not_Fraud_data = data[data.isFraud==0]"
   ]
  },
  {
   "cell_type": "code",
   "execution_count": 3,
   "metadata": {},
   "outputs": [
    {
     "data": {
      "text/plain": [
       "step                0\n",
       "type                0\n",
       "amount              0\n",
       "nameOrig            0\n",
       "oldbalanceOrig      0\n",
       "newbalanceOrig      0\n",
       "nameDest            0\n",
       "oldbalanceDest      0\n",
       "newbalanceDest      0\n",
       "isFraud             0\n",
       "isFradulentNamed    0\n",
       "dtype: int64"
      ]
     },
     "execution_count": 3,
     "metadata": {},
     "output_type": "execute_result"
    }
   ],
   "source": [
    "#check for nans\n",
    "data.isnull().sum()"
   ]
  },
  {
   "cell_type": "markdown",
   "metadata": {},
   "source": [
    " "
   ]
  },
  {
   "cell_type": "markdown",
   "metadata": {},
   "source": [
    "**Display the data for quick look**"
   ]
  },
  {
   "cell_type": "code",
   "execution_count": 4,
   "metadata": {},
   "outputs": [
    {
     "data": {
      "text/html": [
       "<div>\n",
       "<style scoped>\n",
       "    .dataframe tbody tr th:only-of-type {\n",
       "        vertical-align: middle;\n",
       "    }\n",
       "\n",
       "    .dataframe tbody tr th {\n",
       "        vertical-align: top;\n",
       "    }\n",
       "\n",
       "    .dataframe thead th {\n",
       "        text-align: right;\n",
       "    }\n",
       "</style>\n",
       "<table border=\"1\" class=\"dataframe\">\n",
       "  <thead>\n",
       "    <tr style=\"text-align: right;\">\n",
       "      <th></th>\n",
       "      <th>step</th>\n",
       "      <th>type</th>\n",
       "      <th>amount</th>\n",
       "      <th>nameOrig</th>\n",
       "      <th>oldbalanceOrig</th>\n",
       "      <th>newbalanceOrig</th>\n",
       "      <th>nameDest</th>\n",
       "      <th>oldbalanceDest</th>\n",
       "      <th>newbalanceDest</th>\n",
       "      <th>isFraud</th>\n",
       "      <th>isFradulentNamed</th>\n",
       "    </tr>\n",
       "  </thead>\n",
       "  <tbody>\n",
       "    <tr>\n",
       "      <th>0</th>\n",
       "      <td>1</td>\n",
       "      <td>PAYMENT</td>\n",
       "      <td>9839.64</td>\n",
       "      <td>C1231006815</td>\n",
       "      <td>170136.00</td>\n",
       "      <td>160296.36</td>\n",
       "      <td>M1979787155</td>\n",
       "      <td>0.00</td>\n",
       "      <td>0.00</td>\n",
       "      <td>0</td>\n",
       "      <td>not fraud</td>\n",
       "    </tr>\n",
       "    <tr>\n",
       "      <th>1</th>\n",
       "      <td>1</td>\n",
       "      <td>PAYMENT</td>\n",
       "      <td>1864.28</td>\n",
       "      <td>C1666544295</td>\n",
       "      <td>21249.00</td>\n",
       "      <td>19384.72</td>\n",
       "      <td>M2044282225</td>\n",
       "      <td>0.00</td>\n",
       "      <td>0.00</td>\n",
       "      <td>0</td>\n",
       "      <td>not fraud</td>\n",
       "    </tr>\n",
       "    <tr>\n",
       "      <th>2</th>\n",
       "      <td>1</td>\n",
       "      <td>TRANSFER</td>\n",
       "      <td>181.00</td>\n",
       "      <td>C1305486145</td>\n",
       "      <td>181.00</td>\n",
       "      <td>0.00</td>\n",
       "      <td>C553264065</td>\n",
       "      <td>0.00</td>\n",
       "      <td>0.00</td>\n",
       "      <td>1</td>\n",
       "      <td>fraud</td>\n",
       "    </tr>\n",
       "    <tr>\n",
       "      <th>3</th>\n",
       "      <td>1</td>\n",
       "      <td>CASH_OUT</td>\n",
       "      <td>181.00</td>\n",
       "      <td>C840083671</td>\n",
       "      <td>181.00</td>\n",
       "      <td>0.00</td>\n",
       "      <td>C38997010</td>\n",
       "      <td>21182.00</td>\n",
       "      <td>0.00</td>\n",
       "      <td>1</td>\n",
       "      <td>fraud</td>\n",
       "    </tr>\n",
       "    <tr>\n",
       "      <th>4</th>\n",
       "      <td>1</td>\n",
       "      <td>PAYMENT</td>\n",
       "      <td>11668.14</td>\n",
       "      <td>C2048537720</td>\n",
       "      <td>41554.00</td>\n",
       "      <td>29885.86</td>\n",
       "      <td>M1230701703</td>\n",
       "      <td>0.00</td>\n",
       "      <td>0.00</td>\n",
       "      <td>0</td>\n",
       "      <td>not fraud</td>\n",
       "    </tr>\n",
       "    <tr>\n",
       "      <th>...</th>\n",
       "      <td>...</td>\n",
       "      <td>...</td>\n",
       "      <td>...</td>\n",
       "      <td>...</td>\n",
       "      <td>...</td>\n",
       "      <td>...</td>\n",
       "      <td>...</td>\n",
       "      <td>...</td>\n",
       "      <td>...</td>\n",
       "      <td>...</td>\n",
       "      <td>...</td>\n",
       "    </tr>\n",
       "    <tr>\n",
       "      <th>6351188</th>\n",
       "      <td>699</td>\n",
       "      <td>TRANSFER</td>\n",
       "      <td>162326.52</td>\n",
       "      <td>C1557504343</td>\n",
       "      <td>162326.52</td>\n",
       "      <td>0.00</td>\n",
       "      <td>C404511346</td>\n",
       "      <td>0.00</td>\n",
       "      <td>0.00</td>\n",
       "      <td>1</td>\n",
       "      <td>fraud</td>\n",
       "    </tr>\n",
       "    <tr>\n",
       "      <th>6351189</th>\n",
       "      <td>699</td>\n",
       "      <td>CASH_OUT</td>\n",
       "      <td>162326.52</td>\n",
       "      <td>C1532317723</td>\n",
       "      <td>162326.52</td>\n",
       "      <td>0.00</td>\n",
       "      <td>C446134087</td>\n",
       "      <td>0.00</td>\n",
       "      <td>162326.52</td>\n",
       "      <td>1</td>\n",
       "      <td>fraud</td>\n",
       "    </tr>\n",
       "    <tr>\n",
       "      <th>6351190</th>\n",
       "      <td>699</td>\n",
       "      <td>TRANSFER</td>\n",
       "      <td>2763398.31</td>\n",
       "      <td>C577803442</td>\n",
       "      <td>2763398.31</td>\n",
       "      <td>0.00</td>\n",
       "      <td>C619602282</td>\n",
       "      <td>0.00</td>\n",
       "      <td>0.00</td>\n",
       "      <td>1</td>\n",
       "      <td>fraud</td>\n",
       "    </tr>\n",
       "    <tr>\n",
       "      <th>6351191</th>\n",
       "      <td>699</td>\n",
       "      <td>CASH_OUT</td>\n",
       "      <td>2763398.31</td>\n",
       "      <td>C1491503658</td>\n",
       "      <td>2763398.31</td>\n",
       "      <td>0.00</td>\n",
       "      <td>C454424230</td>\n",
       "      <td>339515.35</td>\n",
       "      <td>3102913.66</td>\n",
       "      <td>1</td>\n",
       "      <td>fraud</td>\n",
       "    </tr>\n",
       "    <tr>\n",
       "      <th>6351192</th>\n",
       "      <td>699</td>\n",
       "      <td>DEBIT</td>\n",
       "      <td>578.21</td>\n",
       "      <td>C700991352</td>\n",
       "      <td>10575.00</td>\n",
       "      <td>9996.79</td>\n",
       "      <td>C1275804655</td>\n",
       "      <td>127072.23</td>\n",
       "      <td>127650.44</td>\n",
       "      <td>0</td>\n",
       "      <td>not fraud</td>\n",
       "    </tr>\n",
       "  </tbody>\n",
       "</table>\n",
       "<p>6351193 rows × 11 columns</p>\n",
       "</div>"
      ],
      "text/plain": [
       "         step      type      amount     nameOrig  oldbalanceOrig  \\\n",
       "0           1   PAYMENT     9839.64  C1231006815       170136.00   \n",
       "1           1   PAYMENT     1864.28  C1666544295        21249.00   \n",
       "2           1  TRANSFER      181.00  C1305486145          181.00   \n",
       "3           1  CASH_OUT      181.00   C840083671          181.00   \n",
       "4           1   PAYMENT    11668.14  C2048537720        41554.00   \n",
       "...       ...       ...         ...          ...             ...   \n",
       "6351188   699  TRANSFER   162326.52  C1557504343       162326.52   \n",
       "6351189   699  CASH_OUT   162326.52  C1532317723       162326.52   \n",
       "6351190   699  TRANSFER  2763398.31   C577803442      2763398.31   \n",
       "6351191   699  CASH_OUT  2763398.31  C1491503658      2763398.31   \n",
       "6351192   699     DEBIT      578.21   C700991352        10575.00   \n",
       "\n",
       "         newbalanceOrig     nameDest  oldbalanceDest  newbalanceDest  isFraud  \\\n",
       "0             160296.36  M1979787155            0.00            0.00        0   \n",
       "1              19384.72  M2044282225            0.00            0.00        0   \n",
       "2                  0.00   C553264065            0.00            0.00        1   \n",
       "3                  0.00    C38997010        21182.00            0.00        1   \n",
       "4              29885.86  M1230701703            0.00            0.00        0   \n",
       "...                 ...          ...             ...             ...      ...   \n",
       "6351188            0.00   C404511346            0.00            0.00        1   \n",
       "6351189            0.00   C446134087            0.00       162326.52        1   \n",
       "6351190            0.00   C619602282            0.00            0.00        1   \n",
       "6351191            0.00   C454424230       339515.35      3102913.66        1   \n",
       "6351192         9996.79  C1275804655       127072.23       127650.44        0   \n",
       "\n",
       "        isFradulentNamed  \n",
       "0              not fraud  \n",
       "1              not fraud  \n",
       "2                  fraud  \n",
       "3                  fraud  \n",
       "4              not fraud  \n",
       "...                  ...  \n",
       "6351188            fraud  \n",
       "6351189            fraud  \n",
       "6351190            fraud  \n",
       "6351191            fraud  \n",
       "6351192        not fraud  \n",
       "\n",
       "[6351193 rows x 11 columns]"
      ]
     },
     "metadata": {},
     "output_type": "display_data"
    }
   ],
   "source": [
    "#display all data\n",
    "display(data)"
   ]
  },
  {
   "cell_type": "markdown",
   "metadata": {},
   "source": [
    " "
   ]
  },
  {
   "cell_type": "code",
   "execution_count": 5,
   "metadata": {},
   "outputs": [
    {
     "data": {
      "text/html": [
       "<div>\n",
       "<style scoped>\n",
       "    .dataframe tbody tr th:only-of-type {\n",
       "        vertical-align: middle;\n",
       "    }\n",
       "\n",
       "    .dataframe tbody tr th {\n",
       "        vertical-align: top;\n",
       "    }\n",
       "\n",
       "    .dataframe thead th {\n",
       "        text-align: right;\n",
       "    }\n",
       "</style>\n",
       "<table border=\"1\" class=\"dataframe\">\n",
       "  <thead>\n",
       "    <tr style=\"text-align: right;\">\n",
       "      <th></th>\n",
       "      <th>step</th>\n",
       "      <th>type</th>\n",
       "      <th>amount</th>\n",
       "      <th>nameOrig</th>\n",
       "      <th>oldbalanceOrig</th>\n",
       "      <th>newbalanceOrig</th>\n",
       "      <th>nameDest</th>\n",
       "      <th>oldbalanceDest</th>\n",
       "      <th>newbalanceDest</th>\n",
       "      <th>isFraud</th>\n",
       "      <th>isFradulentNamed</th>\n",
       "    </tr>\n",
       "  </thead>\n",
       "  <tbody>\n",
       "    <tr>\n",
       "      <th>2</th>\n",
       "      <td>1</td>\n",
       "      <td>TRANSFER</td>\n",
       "      <td>181.00</td>\n",
       "      <td>C1305486145</td>\n",
       "      <td>181.00</td>\n",
       "      <td>0.0</td>\n",
       "      <td>C553264065</td>\n",
       "      <td>0.00</td>\n",
       "      <td>0.00</td>\n",
       "      <td>1</td>\n",
       "      <td>fraud</td>\n",
       "    </tr>\n",
       "    <tr>\n",
       "      <th>3</th>\n",
       "      <td>1</td>\n",
       "      <td>CASH_OUT</td>\n",
       "      <td>181.00</td>\n",
       "      <td>C840083671</td>\n",
       "      <td>181.00</td>\n",
       "      <td>0.0</td>\n",
       "      <td>C38997010</td>\n",
       "      <td>21182.00</td>\n",
       "      <td>0.00</td>\n",
       "      <td>1</td>\n",
       "      <td>fraud</td>\n",
       "    </tr>\n",
       "    <tr>\n",
       "      <th>251</th>\n",
       "      <td>1</td>\n",
       "      <td>TRANSFER</td>\n",
       "      <td>2806.00</td>\n",
       "      <td>C1420196421</td>\n",
       "      <td>2806.00</td>\n",
       "      <td>0.0</td>\n",
       "      <td>C972765878</td>\n",
       "      <td>0.00</td>\n",
       "      <td>0.00</td>\n",
       "      <td>1</td>\n",
       "      <td>fraud</td>\n",
       "    </tr>\n",
       "    <tr>\n",
       "      <th>252</th>\n",
       "      <td>1</td>\n",
       "      <td>CASH_OUT</td>\n",
       "      <td>2806.00</td>\n",
       "      <td>C2101527076</td>\n",
       "      <td>2806.00</td>\n",
       "      <td>0.0</td>\n",
       "      <td>C1007251739</td>\n",
       "      <td>26202.00</td>\n",
       "      <td>0.00</td>\n",
       "      <td>1</td>\n",
       "      <td>fraud</td>\n",
       "    </tr>\n",
       "    <tr>\n",
       "      <th>680</th>\n",
       "      <td>1</td>\n",
       "      <td>TRANSFER</td>\n",
       "      <td>20128.00</td>\n",
       "      <td>C137533655</td>\n",
       "      <td>20128.00</td>\n",
       "      <td>0.0</td>\n",
       "      <td>C1848415041</td>\n",
       "      <td>0.00</td>\n",
       "      <td>0.00</td>\n",
       "      <td>1</td>\n",
       "      <td>fraud</td>\n",
       "    </tr>\n",
       "    <tr>\n",
       "      <th>...</th>\n",
       "      <td>...</td>\n",
       "      <td>...</td>\n",
       "      <td>...</td>\n",
       "      <td>...</td>\n",
       "      <td>...</td>\n",
       "      <td>...</td>\n",
       "      <td>...</td>\n",
       "      <td>...</td>\n",
       "      <td>...</td>\n",
       "      <td>...</td>\n",
       "      <td>...</td>\n",
       "    </tr>\n",
       "    <tr>\n",
       "      <th>6351186</th>\n",
       "      <td>699</td>\n",
       "      <td>CASH_OUT</td>\n",
       "      <td>62372.43</td>\n",
       "      <td>C1915659563</td>\n",
       "      <td>62372.43</td>\n",
       "      <td>0.0</td>\n",
       "      <td>C421781202</td>\n",
       "      <td>1195387.47</td>\n",
       "      <td>1257759.90</td>\n",
       "      <td>1</td>\n",
       "      <td>fraud</td>\n",
       "    </tr>\n",
       "    <tr>\n",
       "      <th>6351188</th>\n",
       "      <td>699</td>\n",
       "      <td>TRANSFER</td>\n",
       "      <td>162326.52</td>\n",
       "      <td>C1557504343</td>\n",
       "      <td>162326.52</td>\n",
       "      <td>0.0</td>\n",
       "      <td>C404511346</td>\n",
       "      <td>0.00</td>\n",
       "      <td>0.00</td>\n",
       "      <td>1</td>\n",
       "      <td>fraud</td>\n",
       "    </tr>\n",
       "    <tr>\n",
       "      <th>6351189</th>\n",
       "      <td>699</td>\n",
       "      <td>CASH_OUT</td>\n",
       "      <td>162326.52</td>\n",
       "      <td>C1532317723</td>\n",
       "      <td>162326.52</td>\n",
       "      <td>0.0</td>\n",
       "      <td>C446134087</td>\n",
       "      <td>0.00</td>\n",
       "      <td>162326.52</td>\n",
       "      <td>1</td>\n",
       "      <td>fraud</td>\n",
       "    </tr>\n",
       "    <tr>\n",
       "      <th>6351190</th>\n",
       "      <td>699</td>\n",
       "      <td>TRANSFER</td>\n",
       "      <td>2763398.31</td>\n",
       "      <td>C577803442</td>\n",
       "      <td>2763398.31</td>\n",
       "      <td>0.0</td>\n",
       "      <td>C619602282</td>\n",
       "      <td>0.00</td>\n",
       "      <td>0.00</td>\n",
       "      <td>1</td>\n",
       "      <td>fraud</td>\n",
       "    </tr>\n",
       "    <tr>\n",
       "      <th>6351191</th>\n",
       "      <td>699</td>\n",
       "      <td>CASH_OUT</td>\n",
       "      <td>2763398.31</td>\n",
       "      <td>C1491503658</td>\n",
       "      <td>2763398.31</td>\n",
       "      <td>0.0</td>\n",
       "      <td>C454424230</td>\n",
       "      <td>339515.35</td>\n",
       "      <td>3102913.66</td>\n",
       "      <td>1</td>\n",
       "      <td>fraud</td>\n",
       "    </tr>\n",
       "  </tbody>\n",
       "</table>\n",
       "<p>7717 rows × 11 columns</p>\n",
       "</div>"
      ],
      "text/plain": [
       "         step      type      amount     nameOrig  oldbalanceOrig  \\\n",
       "2           1  TRANSFER      181.00  C1305486145          181.00   \n",
       "3           1  CASH_OUT      181.00   C840083671          181.00   \n",
       "251         1  TRANSFER     2806.00  C1420196421         2806.00   \n",
       "252         1  CASH_OUT     2806.00  C2101527076         2806.00   \n",
       "680         1  TRANSFER    20128.00   C137533655        20128.00   \n",
       "...       ...       ...         ...          ...             ...   \n",
       "6351186   699  CASH_OUT    62372.43  C1915659563        62372.43   \n",
       "6351188   699  TRANSFER   162326.52  C1557504343       162326.52   \n",
       "6351189   699  CASH_OUT   162326.52  C1532317723       162326.52   \n",
       "6351190   699  TRANSFER  2763398.31   C577803442      2763398.31   \n",
       "6351191   699  CASH_OUT  2763398.31  C1491503658      2763398.31   \n",
       "\n",
       "         newbalanceOrig     nameDest  oldbalanceDest  newbalanceDest  isFraud  \\\n",
       "2                   0.0   C553264065            0.00            0.00        1   \n",
       "3                   0.0    C38997010        21182.00            0.00        1   \n",
       "251                 0.0   C972765878            0.00            0.00        1   \n",
       "252                 0.0  C1007251739        26202.00            0.00        1   \n",
       "680                 0.0  C1848415041            0.00            0.00        1   \n",
       "...                 ...          ...             ...             ...      ...   \n",
       "6351186             0.0   C421781202      1195387.47      1257759.90        1   \n",
       "6351188             0.0   C404511346            0.00            0.00        1   \n",
       "6351189             0.0   C446134087            0.00       162326.52        1   \n",
       "6351190             0.0   C619602282            0.00            0.00        1   \n",
       "6351191             0.0   C454424230       339515.35      3102913.66        1   \n",
       "\n",
       "        isFradulentNamed  \n",
       "2                  fraud  \n",
       "3                  fraud  \n",
       "251                fraud  \n",
       "252                fraud  \n",
       "680                fraud  \n",
       "...                  ...  \n",
       "6351186            fraud  \n",
       "6351188            fraud  \n",
       "6351189            fraud  \n",
       "6351190            fraud  \n",
       "6351191            fraud  \n",
       "\n",
       "[7717 rows x 11 columns]"
      ]
     },
     "metadata": {},
     "output_type": "display_data"
    }
   ],
   "source": [
    "#display fraud data\n",
    "display(Fraud_data)"
   ]
  },
  {
   "cell_type": "markdown",
   "metadata": {},
   "source": [
    " "
   ]
  },
  {
   "cell_type": "code",
   "execution_count": 6,
   "metadata": {},
   "outputs": [
    {
     "data": {
      "text/html": [
       "<div>\n",
       "<style scoped>\n",
       "    .dataframe tbody tr th:only-of-type {\n",
       "        vertical-align: middle;\n",
       "    }\n",
       "\n",
       "    .dataframe tbody tr th {\n",
       "        vertical-align: top;\n",
       "    }\n",
       "\n",
       "    .dataframe thead th {\n",
       "        text-align: right;\n",
       "    }\n",
       "</style>\n",
       "<table border=\"1\" class=\"dataframe\">\n",
       "  <thead>\n",
       "    <tr style=\"text-align: right;\">\n",
       "      <th></th>\n",
       "      <th>step</th>\n",
       "      <th>type</th>\n",
       "      <th>amount</th>\n",
       "      <th>nameOrig</th>\n",
       "      <th>oldbalanceOrig</th>\n",
       "      <th>newbalanceOrig</th>\n",
       "      <th>nameDest</th>\n",
       "      <th>oldbalanceDest</th>\n",
       "      <th>newbalanceDest</th>\n",
       "      <th>isFraud</th>\n",
       "      <th>isFradulentNamed</th>\n",
       "    </tr>\n",
       "  </thead>\n",
       "  <tbody>\n",
       "    <tr>\n",
       "      <th>0</th>\n",
       "      <td>1</td>\n",
       "      <td>PAYMENT</td>\n",
       "      <td>9839.64</td>\n",
       "      <td>C1231006815</td>\n",
       "      <td>170136.0</td>\n",
       "      <td>160296.36</td>\n",
       "      <td>M1979787155</td>\n",
       "      <td>0.00</td>\n",
       "      <td>0.00</td>\n",
       "      <td>0</td>\n",
       "      <td>not fraud</td>\n",
       "    </tr>\n",
       "    <tr>\n",
       "      <th>1</th>\n",
       "      <td>1</td>\n",
       "      <td>PAYMENT</td>\n",
       "      <td>1864.28</td>\n",
       "      <td>C1666544295</td>\n",
       "      <td>21249.0</td>\n",
       "      <td>19384.72</td>\n",
       "      <td>M2044282225</td>\n",
       "      <td>0.00</td>\n",
       "      <td>0.00</td>\n",
       "      <td>0</td>\n",
       "      <td>not fraud</td>\n",
       "    </tr>\n",
       "    <tr>\n",
       "      <th>4</th>\n",
       "      <td>1</td>\n",
       "      <td>PAYMENT</td>\n",
       "      <td>11668.14</td>\n",
       "      <td>C2048537720</td>\n",
       "      <td>41554.0</td>\n",
       "      <td>29885.86</td>\n",
       "      <td>M1230701703</td>\n",
       "      <td>0.00</td>\n",
       "      <td>0.00</td>\n",
       "      <td>0</td>\n",
       "      <td>not fraud</td>\n",
       "    </tr>\n",
       "    <tr>\n",
       "      <th>5</th>\n",
       "      <td>1</td>\n",
       "      <td>PAYMENT</td>\n",
       "      <td>7817.71</td>\n",
       "      <td>C90045638</td>\n",
       "      <td>53860.0</td>\n",
       "      <td>46042.29</td>\n",
       "      <td>M573487274</td>\n",
       "      <td>0.00</td>\n",
       "      <td>0.00</td>\n",
       "      <td>0</td>\n",
       "      <td>not fraud</td>\n",
       "    </tr>\n",
       "    <tr>\n",
       "      <th>6</th>\n",
       "      <td>1</td>\n",
       "      <td>PAYMENT</td>\n",
       "      <td>7107.77</td>\n",
       "      <td>C154988899</td>\n",
       "      <td>183195.0</td>\n",
       "      <td>176087.23</td>\n",
       "      <td>M408069119</td>\n",
       "      <td>0.00</td>\n",
       "      <td>0.00</td>\n",
       "      <td>0</td>\n",
       "      <td>not fraud</td>\n",
       "    </tr>\n",
       "    <tr>\n",
       "      <th>...</th>\n",
       "      <td>...</td>\n",
       "      <td>...</td>\n",
       "      <td>...</td>\n",
       "      <td>...</td>\n",
       "      <td>...</td>\n",
       "      <td>...</td>\n",
       "      <td>...</td>\n",
       "      <td>...</td>\n",
       "      <td>...</td>\n",
       "      <td>...</td>\n",
       "      <td>...</td>\n",
       "    </tr>\n",
       "    <tr>\n",
       "      <th>6351180</th>\n",
       "      <td>699</td>\n",
       "      <td>TRANSFER</td>\n",
       "      <td>549094.49</td>\n",
       "      <td>C519897821</td>\n",
       "      <td>0.0</td>\n",
       "      <td>0.00</td>\n",
       "      <td>C1595954485</td>\n",
       "      <td>628327.62</td>\n",
       "      <td>1177422.11</td>\n",
       "      <td>0</td>\n",
       "      <td>not fraud</td>\n",
       "    </tr>\n",
       "    <tr>\n",
       "      <th>6351181</th>\n",
       "      <td>699</td>\n",
       "      <td>TRANSFER</td>\n",
       "      <td>125500.53</td>\n",
       "      <td>C1180820392</td>\n",
       "      <td>0.0</td>\n",
       "      <td>0.00</td>\n",
       "      <td>C733485865</td>\n",
       "      <td>174727.81</td>\n",
       "      <td>300228.35</td>\n",
       "      <td>0</td>\n",
       "      <td>not fraud</td>\n",
       "    </tr>\n",
       "    <tr>\n",
       "      <th>6351184</th>\n",
       "      <td>699</td>\n",
       "      <td>PAYMENT</td>\n",
       "      <td>302.09</td>\n",
       "      <td>C1506297825</td>\n",
       "      <td>3691.0</td>\n",
       "      <td>3388.91</td>\n",
       "      <td>M276665299</td>\n",
       "      <td>0.00</td>\n",
       "      <td>0.00</td>\n",
       "      <td>0</td>\n",
       "      <td>not fraud</td>\n",
       "    </tr>\n",
       "    <tr>\n",
       "      <th>6351187</th>\n",
       "      <td>699</td>\n",
       "      <td>PAYMENT</td>\n",
       "      <td>573.88</td>\n",
       "      <td>C1774322624</td>\n",
       "      <td>561.0</td>\n",
       "      <td>0.00</td>\n",
       "      <td>M358479392</td>\n",
       "      <td>0.00</td>\n",
       "      <td>0.00</td>\n",
       "      <td>0</td>\n",
       "      <td>not fraud</td>\n",
       "    </tr>\n",
       "    <tr>\n",
       "      <th>6351192</th>\n",
       "      <td>699</td>\n",
       "      <td>DEBIT</td>\n",
       "      <td>578.21</td>\n",
       "      <td>C700991352</td>\n",
       "      <td>10575.0</td>\n",
       "      <td>9996.79</td>\n",
       "      <td>C1275804655</td>\n",
       "      <td>127072.23</td>\n",
       "      <td>127650.44</td>\n",
       "      <td>0</td>\n",
       "      <td>not fraud</td>\n",
       "    </tr>\n",
       "  </tbody>\n",
       "</table>\n",
       "<p>6343476 rows × 11 columns</p>\n",
       "</div>"
      ],
      "text/plain": [
       "         step      type     amount     nameOrig  oldbalanceOrig  \\\n",
       "0           1   PAYMENT    9839.64  C1231006815        170136.0   \n",
       "1           1   PAYMENT    1864.28  C1666544295         21249.0   \n",
       "4           1   PAYMENT   11668.14  C2048537720         41554.0   \n",
       "5           1   PAYMENT    7817.71    C90045638         53860.0   \n",
       "6           1   PAYMENT    7107.77   C154988899        183195.0   \n",
       "...       ...       ...        ...          ...             ...   \n",
       "6351180   699  TRANSFER  549094.49   C519897821             0.0   \n",
       "6351181   699  TRANSFER  125500.53  C1180820392             0.0   \n",
       "6351184   699   PAYMENT     302.09  C1506297825          3691.0   \n",
       "6351187   699   PAYMENT     573.88  C1774322624           561.0   \n",
       "6351192   699     DEBIT     578.21   C700991352         10575.0   \n",
       "\n",
       "         newbalanceOrig     nameDest  oldbalanceDest  newbalanceDest  isFraud  \\\n",
       "0             160296.36  M1979787155            0.00            0.00        0   \n",
       "1              19384.72  M2044282225            0.00            0.00        0   \n",
       "4              29885.86  M1230701703            0.00            0.00        0   \n",
       "5              46042.29   M573487274            0.00            0.00        0   \n",
       "6             176087.23   M408069119            0.00            0.00        0   \n",
       "...                 ...          ...             ...             ...      ...   \n",
       "6351180            0.00  C1595954485       628327.62      1177422.11        0   \n",
       "6351181            0.00   C733485865       174727.81       300228.35        0   \n",
       "6351184         3388.91   M276665299            0.00            0.00        0   \n",
       "6351187            0.00   M358479392            0.00            0.00        0   \n",
       "6351192         9996.79  C1275804655       127072.23       127650.44        0   \n",
       "\n",
       "        isFradulentNamed  \n",
       "0              not fraud  \n",
       "1              not fraud  \n",
       "4              not fraud  \n",
       "5              not fraud  \n",
       "6              not fraud  \n",
       "...                  ...  \n",
       "6351180        not fraud  \n",
       "6351181        not fraud  \n",
       "6351184        not fraud  \n",
       "6351187        not fraud  \n",
       "6351192        not fraud  \n",
       "\n",
       "[6343476 rows x 11 columns]"
      ]
     },
     "metadata": {},
     "output_type": "display_data"
    }
   ],
   "source": [
    "#display non fraud data\n",
    "display(Not_Fraud_data)"
   ]
  },
  {
   "cell_type": "markdown",
   "metadata": {},
   "source": [
    " "
   ]
  },
  {
   "cell_type": "markdown",
   "metadata": {},
   "source": [
    "**Display the stats of the data**"
   ]
  },
  {
   "cell_type": "code",
   "execution_count": 7,
   "metadata": {},
   "outputs": [
    {
     "data": {
      "text/html": [
       "<div>\n",
       "<style scoped>\n",
       "    .dataframe tbody tr th:only-of-type {\n",
       "        vertical-align: middle;\n",
       "    }\n",
       "\n",
       "    .dataframe tbody tr th {\n",
       "        vertical-align: top;\n",
       "    }\n",
       "\n",
       "    .dataframe thead th {\n",
       "        text-align: right;\n",
       "    }\n",
       "</style>\n",
       "<table border=\"1\" class=\"dataframe\">\n",
       "  <thead>\n",
       "    <tr style=\"text-align: right;\">\n",
       "      <th></th>\n",
       "      <th>step</th>\n",
       "      <th>amount</th>\n",
       "      <th>oldbalanceOrig</th>\n",
       "      <th>newbalanceOrig</th>\n",
       "      <th>oldbalanceDest</th>\n",
       "      <th>newbalanceDest</th>\n",
       "      <th>isFraud</th>\n",
       "    </tr>\n",
       "  </thead>\n",
       "  <tbody>\n",
       "    <tr>\n",
       "      <th>count</th>\n",
       "      <td>7717.000000</td>\n",
       "      <td>7.717000e+03</td>\n",
       "      <td>7.717000e+03</td>\n",
       "      <td>7.717000e+03</td>\n",
       "      <td>7.717000e+03</td>\n",
       "      <td>7.717000e+03</td>\n",
       "      <td>7717.0</td>\n",
       "    </tr>\n",
       "    <tr>\n",
       "      <th>mean</th>\n",
       "      <td>345.670986</td>\n",
       "      <td>1.449185e+06</td>\n",
       "      <td>1.599242e+06</td>\n",
       "      <td>1.580467e+05</td>\n",
       "      <td>5.497466e+05</td>\n",
       "      <td>1.277603e+06</td>\n",
       "      <td>1.0</td>\n",
       "    </tr>\n",
       "    <tr>\n",
       "      <th>std</th>\n",
       "      <td>203.120548</td>\n",
       "      <td>2.364817e+06</td>\n",
       "      <td>3.310424e+06</td>\n",
       "      <td>1.703123e+06</td>\n",
       "      <td>3.421790e+06</td>\n",
       "      <td>3.973945e+06</td>\n",
       "      <td>0.0</td>\n",
       "    </tr>\n",
       "    <tr>\n",
       "      <th>min</th>\n",
       "      <td>1.000000</td>\n",
       "      <td>0.000000e+00</td>\n",
       "      <td>0.000000e+00</td>\n",
       "      <td>0.000000e+00</td>\n",
       "      <td>0.000000e+00</td>\n",
       "      <td>0.000000e+00</td>\n",
       "      <td>1.0</td>\n",
       "    </tr>\n",
       "    <tr>\n",
       "      <th>25%</th>\n",
       "      <td>170.000000</td>\n",
       "      <td>1.271565e+05</td>\n",
       "      <td>1.261926e+05</td>\n",
       "      <td>0.000000e+00</td>\n",
       "      <td>0.000000e+00</td>\n",
       "      <td>0.000000e+00</td>\n",
       "      <td>1.0</td>\n",
       "    </tr>\n",
       "    <tr>\n",
       "      <th>50%</th>\n",
       "      <td>346.000000</td>\n",
       "      <td>4.438937e+05</td>\n",
       "      <td>4.424603e+05</td>\n",
       "      <td>0.000000e+00</td>\n",
       "      <td>0.000000e+00</td>\n",
       "      <td>5.566140e+03</td>\n",
       "      <td>1.0</td>\n",
       "    </tr>\n",
       "    <tr>\n",
       "      <th>75%</th>\n",
       "      <td>521.000000</td>\n",
       "      <td>1.506795e+06</td>\n",
       "      <td>1.506795e+06</td>\n",
       "      <td>0.000000e+00</td>\n",
       "      <td>1.479548e+05</td>\n",
       "      <td>1.057953e+06</td>\n",
       "      <td>1.0</td>\n",
       "    </tr>\n",
       "    <tr>\n",
       "      <th>max</th>\n",
       "      <td>699.000000</td>\n",
       "      <td>1.000000e+07</td>\n",
       "      <td>5.958504e+07</td>\n",
       "      <td>4.958504e+07</td>\n",
       "      <td>2.362305e+08</td>\n",
       "      <td>2.367265e+08</td>\n",
       "      <td>1.0</td>\n",
       "    </tr>\n",
       "  </tbody>\n",
       "</table>\n",
       "</div>"
      ],
      "text/plain": [
       "              step        amount  oldbalanceOrig  newbalanceOrig  \\\n",
       "count  7717.000000  7.717000e+03    7.717000e+03    7.717000e+03   \n",
       "mean    345.670986  1.449185e+06    1.599242e+06    1.580467e+05   \n",
       "std     203.120548  2.364817e+06    3.310424e+06    1.703123e+06   \n",
       "min       1.000000  0.000000e+00    0.000000e+00    0.000000e+00   \n",
       "25%     170.000000  1.271565e+05    1.261926e+05    0.000000e+00   \n",
       "50%     346.000000  4.438937e+05    4.424603e+05    0.000000e+00   \n",
       "75%     521.000000  1.506795e+06    1.506795e+06    0.000000e+00   \n",
       "max     699.000000  1.000000e+07    5.958504e+07    4.958504e+07   \n",
       "\n",
       "       oldbalanceDest  newbalanceDest  isFraud  \n",
       "count    7.717000e+03    7.717000e+03   7717.0  \n",
       "mean     5.497466e+05    1.277603e+06      1.0  \n",
       "std      3.421790e+06    3.973945e+06      0.0  \n",
       "min      0.000000e+00    0.000000e+00      1.0  \n",
       "25%      0.000000e+00    0.000000e+00      1.0  \n",
       "50%      0.000000e+00    5.566140e+03      1.0  \n",
       "75%      1.479548e+05    1.057953e+06      1.0  \n",
       "max      2.362305e+08    2.367265e+08      1.0  "
      ]
     },
     "execution_count": 7,
     "metadata": {},
     "output_type": "execute_result"
    }
   ],
   "source": [
    "#Quick stats for the fraud samples\n",
    "Fraud_data.describe()"
   ]
  },
  {
   "cell_type": "markdown",
   "metadata": {},
   "source": [
    " "
   ]
  },
  {
   "cell_type": "code",
   "execution_count": 8,
   "metadata": {},
   "outputs": [
    {
     "data": {
      "text/html": [
       "<div>\n",
       "<style scoped>\n",
       "    .dataframe tbody tr th:only-of-type {\n",
       "        vertical-align: middle;\n",
       "    }\n",
       "\n",
       "    .dataframe tbody tr th {\n",
       "        vertical-align: top;\n",
       "    }\n",
       "\n",
       "    .dataframe thead th {\n",
       "        text-align: right;\n",
       "    }\n",
       "</style>\n",
       "<table border=\"1\" class=\"dataframe\">\n",
       "  <thead>\n",
       "    <tr style=\"text-align: right;\">\n",
       "      <th></th>\n",
       "      <th>step</th>\n",
       "      <th>amount</th>\n",
       "      <th>oldbalanceOrig</th>\n",
       "      <th>newbalanceOrig</th>\n",
       "      <th>oldbalanceDest</th>\n",
       "      <th>newbalanceDest</th>\n",
       "      <th>isFraud</th>\n",
       "    </tr>\n",
       "  </thead>\n",
       "  <tbody>\n",
       "    <tr>\n",
       "      <th>count</th>\n",
       "      <td>6.343476e+06</td>\n",
       "      <td>6.343476e+06</td>\n",
       "      <td>6.343476e+06</td>\n",
       "      <td>6.343476e+06</td>\n",
       "      <td>6.343476e+06</td>\n",
       "      <td>6.343476e+06</td>\n",
       "      <td>6343476.0</td>\n",
       "    </tr>\n",
       "    <tr>\n",
       "      <th>mean</th>\n",
       "      <td>2.424299e+02</td>\n",
       "      <td>1.782713e+05</td>\n",
       "      <td>8.338657e+05</td>\n",
       "      <td>8.570189e+05</td>\n",
       "      <td>1.101713e+06</td>\n",
       "      <td>1.225308e+06</td>\n",
       "      <td>0.0</td>\n",
       "    </tr>\n",
       "    <tr>\n",
       "      <th>std</th>\n",
       "      <td>1.409296e+02</td>\n",
       "      <td>5.966982e+05</td>\n",
       "      <td>2.889287e+06</td>\n",
       "      <td>2.927148e+06</td>\n",
       "      <td>3.398841e+06</td>\n",
       "      <td>3.673913e+06</td>\n",
       "      <td>0.0</td>\n",
       "    </tr>\n",
       "    <tr>\n",
       "      <th>min</th>\n",
       "      <td>1.000000e+00</td>\n",
       "      <td>1.000000e-02</td>\n",
       "      <td>0.000000e+00</td>\n",
       "      <td>0.000000e+00</td>\n",
       "      <td>0.000000e+00</td>\n",
       "      <td>0.000000e+00</td>\n",
       "      <td>0.0</td>\n",
       "    </tr>\n",
       "    <tr>\n",
       "      <th>25%</th>\n",
       "      <td>1.550000e+02</td>\n",
       "      <td>1.336803e+04</td>\n",
       "      <td>0.000000e+00</td>\n",
       "      <td>0.000000e+00</td>\n",
       "      <td>0.000000e+00</td>\n",
       "      <td>0.000000e+00</td>\n",
       "      <td>0.0</td>\n",
       "    </tr>\n",
       "    <tr>\n",
       "      <th>50%</th>\n",
       "      <td>2.380000e+02</td>\n",
       "      <td>7.468898e+04</td>\n",
       "      <td>1.402100e+04</td>\n",
       "      <td>0.000000e+00</td>\n",
       "      <td>1.336600e+05</td>\n",
       "      <td>2.151117e+05</td>\n",
       "      <td>0.0</td>\n",
       "    </tr>\n",
       "    <tr>\n",
       "      <th>75%</th>\n",
       "      <td>3.340000e+02</td>\n",
       "      <td>2.083801e+05</td>\n",
       "      <td>1.070190e+05</td>\n",
       "      <td>1.448102e+05</td>\n",
       "      <td>9.449661e+05</td>\n",
       "      <td>1.112848e+06</td>\n",
       "      <td>0.0</td>\n",
       "    </tr>\n",
       "    <tr>\n",
       "      <th>max</th>\n",
       "      <td>6.990000e+02</td>\n",
       "      <td>9.244552e+07</td>\n",
       "      <td>4.381886e+07</td>\n",
       "      <td>4.368662e+07</td>\n",
       "      <td>3.560159e+08</td>\n",
       "      <td>3.561793e+08</td>\n",
       "      <td>0.0</td>\n",
       "    </tr>\n",
       "  </tbody>\n",
       "</table>\n",
       "</div>"
      ],
      "text/plain": [
       "               step        amount  oldbalanceOrig  newbalanceOrig  \\\n",
       "count  6.343476e+06  6.343476e+06    6.343476e+06    6.343476e+06   \n",
       "mean   2.424299e+02  1.782713e+05    8.338657e+05    8.570189e+05   \n",
       "std    1.409296e+02  5.966982e+05    2.889287e+06    2.927148e+06   \n",
       "min    1.000000e+00  1.000000e-02    0.000000e+00    0.000000e+00   \n",
       "25%    1.550000e+02  1.336803e+04    0.000000e+00    0.000000e+00   \n",
       "50%    2.380000e+02  7.468898e+04    1.402100e+04    0.000000e+00   \n",
       "75%    3.340000e+02  2.083801e+05    1.070190e+05    1.448102e+05   \n",
       "max    6.990000e+02  9.244552e+07    4.381886e+07    4.368662e+07   \n",
       "\n",
       "       oldbalanceDest  newbalanceDest    isFraud  \n",
       "count    6.343476e+06    6.343476e+06  6343476.0  \n",
       "mean     1.101713e+06    1.225308e+06        0.0  \n",
       "std      3.398841e+06    3.673913e+06        0.0  \n",
       "min      0.000000e+00    0.000000e+00        0.0  \n",
       "25%      0.000000e+00    0.000000e+00        0.0  \n",
       "50%      1.336600e+05    2.151117e+05        0.0  \n",
       "75%      9.449661e+05    1.112848e+06        0.0  \n",
       "max      3.560159e+08    3.561793e+08        0.0  "
      ]
     },
     "execution_count": 8,
     "metadata": {},
     "output_type": "execute_result"
    }
   ],
   "source": [
    "#Quick stats for the no fraud samples\n",
    "Not_Fraud_data.describe()"
   ]
  },
  {
   "cell_type": "markdown",
   "metadata": {},
   "source": [
    " "
   ]
  },
  {
   "cell_type": "markdown",
   "metadata": {},
   "source": [
    "**From the first look on the data it seems that there is no reasonable correlation between old and new balance\n",
    "for both sender and reciever. It would be reasonable if the absolute difference between the balance before and after the transaction is the amount of transaction but this seems to be not applied in the dataset.**\n",
    "\n",
    "**This might be normal due to some banking policiy or might be a sign of fraud operations. Let's validate this witth numbers.**"
   ]
  },
  {
   "cell_type": "markdown",
   "metadata": {},
   "source": [
    " "
   ]
  },
  {
   "cell_type": "markdown",
   "metadata": {},
   "source": [
    "**View the difference between old and new balance for origin account**"
   ]
  },
  {
   "cell_type": "code",
   "execution_count": 9,
   "metadata": {},
   "outputs": [
    {
     "name": "stdout",
     "output_type": "stream",
     "text": [
      "Old vs new origin balance equals the transaction amount for almost 19.26% of the not fraud data\n"
     ]
    }
   ],
   "source": [
    "#Difference between Old and new origin balance for no fraud data \n",
    "difference_pct = np.mean((Not_Fraud_data.oldbalanceOrig.round() - Not_Fraud_data.newbalanceOrig.round())\\\n",
    "                         ==Not_Fraud_data.amount.round())\n",
    "\n",
    "print(\"Old vs new origin balance equals the transaction amount for almost {:.2f}% of the not fraud data\".format(difference_pct*100))"
   ]
  },
  {
   "cell_type": "markdown",
   "metadata": {},
   "source": [
    " "
   ]
  },
  {
   "cell_type": "code",
   "execution_count": 10,
   "metadata": {},
   "outputs": [
    {
     "name": "stdout",
     "output_type": "stream",
     "text": [
      "Old vs new destination balance equals the transaction amount for almost 31.36% of the not fraud data\n"
     ]
    }
   ],
   "source": [
    "#Difference between Old and new destination balance for no fraud data \n",
    "difference_pct = np.mean((Not_Fraud_data.newbalanceDest.round() - Not_Fraud_data.oldbalanceDest.round())\\\n",
    "                         ==Not_Fraud_data.amount.round())\n",
    "print(\"Old vs new destination balance equals the transaction amount for almost {:.2f}% of the not fraud data\".format(difference_pct*100))"
   ]
  },
  {
   "cell_type": "markdown",
   "metadata": {},
   "source": [
    " "
   ]
  },
  {
   "cell_type": "markdown",
   "metadata": {},
   "source": [
    "**View the difference between old and new balance for destination account**"
   ]
  },
  {
   "cell_type": "code",
   "execution_count": 11,
   "metadata": {},
   "outputs": [
    {
     "name": "stdout",
     "output_type": "stream",
     "text": [
      "Old vs new destination balance equals the transaction amount for almost 40.59% of the fraud data\n"
     ]
    }
   ],
   "source": [
    "#Difference between Old and new destination balance for no fraud data \n",
    "difference_pct = np.mean((Fraud_data.newbalanceDest.round() - Fraud_data.oldbalanceDest.round())\\\n",
    "                         ==Fraud_data.amount.round())\n",
    "print(\"Old vs new destination balance equals the transaction amount for almost {:.2f}% of the fraud data\".format(difference_pct*100))"
   ]
  },
  {
   "cell_type": "markdown",
   "metadata": {},
   "source": [
    " "
   ]
  },
  {
   "cell_type": "code",
   "execution_count": 12,
   "metadata": {},
   "outputs": [
    {
     "name": "stdout",
     "output_type": "stream",
     "text": [
      "Old vs new origin balance equals the transaction amount for almost 99.46% of the fraud data\n"
     ]
    }
   ],
   "source": [
    "#Difference between Old and new origin balance for no fraud data \n",
    "difference_pct = np.mean((Fraud_data.oldbalanceOrig.round() - Fraud_data.newbalanceOrig.round())\\\n",
    "                         ==Fraud_data.amount.round())\n",
    "\n",
    "print(\"Old vs new origin balance equals the transaction amount for almost {:.2f}% of the fraud data\".format(difference_pct*100))"
   ]
  },
  {
   "cell_type": "markdown",
   "metadata": {},
   "source": [
    "  "
   ]
  },
  {
   "cell_type": "markdown",
   "metadata": {},
   "source": [
    "**Also, it is noticeable that for fraud data, the amount of transaction is exactly the same amount of original balance. This also needs verification as it might correlate to fraud operations.**"
   ]
  },
  {
   "cell_type": "code",
   "execution_count": 13,
   "metadata": {},
   "outputs": [
    {
     "name": "stdout",
     "output_type": "stream",
     "text": [
      "The amount of transaction is exactly the same amount of original balance for almost 0.00% of the not fraud data\n"
     ]
    }
   ],
   "source": [
    "#amount equals original balance for not fraud data\n",
    "amount_orig_balance_diff = np.mean(Not_Fraud_data.oldbalanceOrig.round() == Not_Fraud_data.amount.round())\n",
    "print(\"The amount of transaction is exactly the same amount of original balance for almost {:.2f}% of the not fraud data\".format(amount_orig_balance_diff*100))"
   ]
  },
  {
   "cell_type": "markdown",
   "metadata": {},
   "source": [
    " "
   ]
  },
  {
   "cell_type": "code",
   "execution_count": 14,
   "metadata": {},
   "outputs": [
    {
     "name": "stdout",
     "output_type": "stream",
     "text": [
      "The amount of transaction is exactly the same amount of original balance for almost 97.94% of the fraud data\n"
     ]
    }
   ],
   "source": [
    "#amount equals original balance for fraud data\n",
    "amount_orig_balance_diff = np.mean(Fraud_data.oldbalanceOrig.round() == Fraud_data.amount.round())\n",
    "print(\"The amount of transaction is exactly the same amount of original balance for almost {:.2f}% of the fraud data\".format(amount_orig_balance_diff*100))"
   ]
  },
  {
   "cell_type": "markdown",
   "metadata": {},
   "source": [
    " "
   ]
  },
  {
   "cell_type": "markdown",
   "metadata": {},
   "source": [
    "**Step2: View class imbalance**\n"
   ]
  },
  {
   "cell_type": "code",
   "execution_count": 15,
   "metadata": {},
   "outputs": [
    {
     "data": {
      "image/png": "[encoded data removed]",
      "text/plain": [
       "<Figure size 1728x864 with 1 Axes>"
      ]
     },
     "metadata": {
      "needs_background": "light"
     },
     "output_type": "display_data"
    }
   ],
   "source": [
    "#view class imbalance\n",
    "def display_class_balance():\n",
    "    plt.figure(figsize = (24, 12))\n",
    "    chart=sns.countplot(data = data,\n",
    "                         x=\"isFradulentNamed\")\n",
    "    plt.xlabel('Fraud Label', fontsize=18)\n",
    "    plt.ylabel('Count', fontsize=16)\n",
    "    plt.xticks(fontsize=14)\n",
    "    plt.title('Fraud vs NotFraud Count', fontsize=20);\n",
    "\n",
    "display_class_balance()"
   ]
  },
  {
   "cell_type": "markdown",
   "metadata": {},
   "source": [
    " "
   ]
  },
  {
   "cell_type": "markdown",
   "metadata": {},
   "source": [
    "**Numerical data might be more visual for this class imbalance**"
   ]
  },
  {
   "cell_type": "code",
   "execution_count": 16,
   "metadata": {},
   "outputs": [
    {
     "name": "stdout",
     "output_type": "stream",
     "text": [
      "Fraud samples: 7717, Not Fraud samples: 6343476, Fraud PCT: 0.12165254507150339%\n"
     ]
    }
   ],
   "source": [
    "def get_fraud_counts(data):\n",
    "    counts = data.isFradulentNamed.value_counts().to_dict()\n",
    "    print(f\"Fraud samples: {counts['fraud']}, Not Fraud samples: {counts['not fraud']}, Fraud PCT: {counts['fraud']*100/counts['not fraud']}%\")\n",
    "    return counts[\"fraud\"], counts[\"not fraud\"]\n",
    "\n",
    "fraud_cnt, not_fraud_cnt = get_fraud_counts(data)"
   ]
  },
  {
   "cell_type": "markdown",
   "metadata": {},
   "source": [
    " "
   ]
  },
  {
   "cell_type": "markdown",
   "metadata": {},
   "source": [
    "**step3: Check the transaction type for fraud vs valid transaction**"
   ]
  },
  {
   "cell_type": "code",
   "execution_count": 17,
   "metadata": {},
   "outputs": [
    {
     "data": {
      "image/png": "[encoded data removed]",
      "text/plain": [
       "<Figure size 1440x864 with 2 Axes>"
      ]
     },
     "metadata": {},
     "output_type": "display_data"
    }
   ],
   "source": [
    "##HELPER FUNCTIONS TO VISUALIZE pie distributions with percent\n",
    "def make_autopct(values):\n",
    "    def my_autopct(pct):\n",
    "        total = sum(values)\n",
    "        val = int(round(pct*total/100.0))\n",
    "        return '{p:.2f}%  ({v:d})'.format(p=pct,v=val)\n",
    "    return my_autopct\n",
    "\n",
    "def display_pie_segments(analogy = \"type\"):\n",
    "    fraud_Info = Fraud_data[\"type\"].value_counts().to_dict()\n",
    "    not_fraud_Info = Not_Fraud_data[\"type\"].value_counts().to_dict()\n",
    "    \n",
    "    colors = sns.color_palette('pastel')[:10]\n",
    "\n",
    "    fig, axes = plt.subplots(1, 2, figsize = (20,12))\n",
    "\n",
    "    axes[0].pie(fraud_Info.values(), labels = fraud_Info.keys(), colors = colors[:len(fraud_Info)], \n",
    "                autopct=make_autopct(fraud_Info.values()), textprops={'fontsize': 8})\n",
    "    axes[0].set_title('Fraud Type distribution', fontsize = 18)\n",
    "\n",
    "    axes[1].pie(not_fraud_Info.values(), labels = not_fraud_Info.keys(), colors = colors[:len(not_fraud_Info)], \n",
    "                autopct=make_autopct(not_fraud_Info.values()), textprops={'fontsize': 8})\n",
    "    axes[1].set_title('Not Fraud Type distribution', fontsize = 18)\n",
    "\n",
    "    fig.suptitle(f\"Fraud vs Not Fraud transaction type distribution\", fontsize=20)\n",
    "    plt.show()\n",
    "\n",
    "display_pie_segments()"
   ]
  },
  {
   "cell_type": "markdown",
   "metadata": {},
   "source": [
    " "
   ]
  },
  {
   "cell_type": "markdown",
   "metadata": {},
   "source": [
    " "
   ]
  },
  {
   "cell_type": "markdown",
   "metadata": {},
   "source": [
    "**step4: Check the distribution of transactions among time steps**"
   ]
  },
  {
   "cell_type": "code",
   "execution_count": 18,
   "metadata": {},
   "outputs": [
    {
     "data": {
      "image/png": "[encoded data removed]",
      "text/plain": [
       "<Figure size 864x288 with 2 Axes>"
      ]
     },
     "metadata": {
      "needs_background": "light"
     },
     "output_type": "display_data"
    }
   ],
   "source": [
    "def display_step_transaction_histogram():\n",
    "    fig, axes = plt.subplots(ncols=2, figsize=(12, 4))\n",
    "    for i in range(len(axes)):\n",
    "        if i==0:\n",
    "            sns.histplot(data = Not_Fraud_data, x=\"step\",bins=50, ax=axes[i])\n",
    "            axes[i].set_title('Not Fraud', fontsize = 12)\n",
    "        else:\n",
    "            sns.histplot(data = Fraud_data, x=\"step\", bins=50, ax=axes[i])\n",
    "            axes[i].set_title('Fraud', fontsize = 12)\n",
    "\n",
    "    plt.suptitle(\"Step Histogram for  fraud vs not fraud transactions\")\n",
    "    plt.show()\n",
    "\n",
    "display_step_transaction_histogram()"
   ]
  },
  {
   "cell_type": "markdown",
   "metadata": {},
   "source": [
    " "
   ]
  },
  {
   "cell_type": "markdown",
   "metadata": {},
   "source": [
    " "
   ]
  },
  {
   "cell_type": "markdown",
   "metadata": {},
   "source": [
    " **EDA RESULTS SUMMARY**"
   ]
  },
  {
   "cell_type": "markdown",
   "metadata": {},
   "source": [
    "**From the above we can conclude the following:**\n",
    "\n",
    "**1- Data has no nan values.**\n",
    "\n",
    "**2- The difference between Old vs new balance which is not the expected action, this is significant specially in the destination balance in fraud examples. It is recommended to add this as a feature in the training data.**\n",
    "\n",
    "**3- It is noticeable that the amount of transaction is exactly the same amount of original balance. This also significant in fraud examples and should also be added as a feature.**\n",
    "\n",
    "**4- Data is greatly imbalanced with only 0.121% of data samples labeled as fraud, this is natural for this type of problems.**\n",
    "\n",
    "**5- Cash out and transfer transactions are the only transaction types involved in fraud. This is very significant however, we should not exclude other types as transaction type is not the only significant feature for fraud.**\n",
    "\n",
    "**6- When analysing the not fraud data, we find that transactions at timesteps>400 are less likely to take place, but they still happen frequently when compared to the fraud transaction frequency at these time steps.**"
   ]
  },
  {
   "cell_type": "code",
   "execution_count": null,
   "metadata": {},
   "outputs": [],
   "source": []
  }
 ],
 "metadata": {
  "kernelspec": {
   "display_name": "Python 3",
   "language": "python",
   "name": "python3"
  },
  "language_info": {
   "codemirror_mode": {
    "name": "ipython",
    "version": 3
   },
   "file_extension": ".py",
   "mimetype": "text/x-python",
   "name": "python",
   "nbconvert_exporter": "python",
   "pygments_lexer": "ipython3",
   "version": "3.7.3"
  }
 },
 "nbformat": 4,
 "nbformat_minor": 2
}
